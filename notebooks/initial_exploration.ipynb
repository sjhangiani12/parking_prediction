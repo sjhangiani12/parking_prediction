{
 "cells": [
  {
   "cell_type": "code",
   "execution_count": 114,
   "metadata": {},
   "outputs": [],
   "source": [
    "import pandas as pd\n",
    "import sqlite3"
   ]
  },
  {
   "cell_type": "code",
   "execution_count": 115,
   "metadata": {},
   "outputs": [],
   "source": [
    "weather = pd.read_csv('../data/forecast_20190828-114302.csv')"
   ]
  },
  {
   "cell_type": "code",
   "execution_count": 116,
   "metadata": {},
   "outputs": [],
   "source": [
    "# access the parking data scraped and currently stored in SQLITE \n",
    "cnx = sqlite3.connect('../data/opendata_parkering.db')\n",
    "parking = pd.read_sql_query(\"SELECT * FROM parkering\", cnx)"
   ]
  },
  {
   "cell_type": "code",
   "execution_count": 117,
   "metadata": {},
   "outputs": [
    {
     "data": {
      "text/html": [
       "<div>\n",
       "<style scoped>\n",
       "    .dataframe tbody tr th:only-of-type {\n",
       "        vertical-align: middle;\n",
       "    }\n",
       "\n",
       "    .dataframe tbody tr th {\n",
       "        vertical-align: top;\n",
       "    }\n",
       "\n",
       "    .dataframe thead th {\n",
       "        text-align: right;\n",
       "    }\n",
       "</style>\n",
       "<table border=\"1\" class=\"dataframe\">\n",
       "  <thead>\n",
       "    <tr style=\"text-align: right;\">\n",
       "      <th></th>\n",
       "      <th>date</th>\n",
       "      <th>vehicleCount</th>\n",
       "      <th>id</th>\n",
       "      <th>totalSpaces</th>\n",
       "      <th>garageCode</th>\n",
       "    </tr>\n",
       "  </thead>\n",
       "  <tbody>\n",
       "    <tr>\n",
       "      <th>0</th>\n",
       "      <td>2018/03/06 12:35:01</td>\n",
       "      <td>26</td>\n",
       "      <td>1</td>\n",
       "      <td>65</td>\n",
       "      <td>NORREPORT</td>\n",
       "    </tr>\n",
       "    <tr>\n",
       "      <th>1</th>\n",
       "      <td>2018/03/06 12:35:01</td>\n",
       "      <td>559</td>\n",
       "      <td>2</td>\n",
       "      <td>1240</td>\n",
       "      <td>SCANDCENTER</td>\n",
       "    </tr>\n",
       "    <tr>\n",
       "      <th>2</th>\n",
       "      <td>2018/03/06 12:35:01</td>\n",
       "      <td>508</td>\n",
       "      <td>3</td>\n",
       "      <td>953</td>\n",
       "      <td>BRUUNS</td>\n",
       "    </tr>\n",
       "    <tr>\n",
       "      <th>3</th>\n",
       "      <td>2018/03/06 12:35:01</td>\n",
       "      <td>222</td>\n",
       "      <td>4</td>\n",
       "      <td>378</td>\n",
       "      <td>MAGASIN</td>\n",
       "    </tr>\n",
       "    <tr>\n",
       "      <th>4</th>\n",
       "      <td>2018/03/06 12:35:01</td>\n",
       "      <td>182</td>\n",
       "      <td>5</td>\n",
       "      <td>210</td>\n",
       "      <td>KALKVAERKSVEJ</td>\n",
       "    </tr>\n",
       "  </tbody>\n",
       "</table>\n",
       "</div>"
      ],
      "text/plain": [
       "                  date  vehicleCount  id  totalSpaces     garageCode\n",
       "0  2018/03/06 12:35:01            26   1           65      NORREPORT\n",
       "1  2018/03/06 12:35:01           559   2         1240    SCANDCENTER\n",
       "2  2018/03/06 12:35:01           508   3          953         BRUUNS\n",
       "3  2018/03/06 12:35:01           222   4          378        MAGASIN\n",
       "4  2018/03/06 12:35:01           182   5          210  KALKVAERKSVEJ"
      ]
     },
     "execution_count": 117,
     "metadata": {},
     "output_type": "execute_result"
    }
   ],
   "source": [
    "parking.head()"
   ]
  },
  {
   "cell_type": "code",
   "execution_count": 118,
   "metadata": {},
   "outputs": [],
   "source": [
    "# drop Dokk1 because of no data\n",
    "parking = df[df.garageCode != 'DOKK1']"
   ]
  },
  {
   "cell_type": "code",
   "execution_count": 119,
   "metadata": {},
   "outputs": [],
   "source": [
    "weather['date'] = weather['date'].astype('datetime64[ns]') \n",
    "parking['date'] = parking['date'].astype('datetime64[ns]') "
   ]
  },
  {
   "cell_type": "code",
   "execution_count": 120,
   "metadata": {},
   "outputs": [
    {
     "data": {
      "text/html": [
       "<div>\n",
       "<style scoped>\n",
       "    .dataframe tbody tr th:only-of-type {\n",
       "        vertical-align: middle;\n",
       "    }\n",
       "\n",
       "    .dataframe tbody tr th {\n",
       "        vertical-align: top;\n",
       "    }\n",
       "\n",
       "    .dataframe thead th {\n",
       "        text-align: right;\n",
       "    }\n",
       "</style>\n",
       "<table border=\"1\" class=\"dataframe\">\n",
       "  <thead>\n",
       "    <tr style=\"text-align: right;\">\n",
       "      <th></th>\n",
       "      <th>date</th>\n",
       "      <th>temperature</th>\n",
       "      <th>precipitation</th>\n",
       "      <th>winddirection</th>\n",
       "      <th>windspeed</th>\n",
       "      <th>pressure</th>\n",
       "      <th>symbol</th>\n",
       "    </tr>\n",
       "  </thead>\n",
       "  <tbody>\n",
       "    <tr>\n",
       "      <th>0</th>\n",
       "      <td>2018-03-22 13:00:00</td>\n",
       "      <td>4</td>\n",
       "      <td>0.0</td>\n",
       "      <td>54.2</td>\n",
       "      <td>2.6</td>\n",
       "      <td>1008.6</td>\n",
       "      <td>Cloudy</td>\n",
       "    </tr>\n",
       "    <tr>\n",
       "      <th>1</th>\n",
       "      <td>2018-03-22 14:00:00</td>\n",
       "      <td>3</td>\n",
       "      <td>0.0</td>\n",
       "      <td>40.8</td>\n",
       "      <td>2.4</td>\n",
       "      <td>1008.7</td>\n",
       "      <td>Cloudy</td>\n",
       "    </tr>\n",
       "    <tr>\n",
       "      <th>2</th>\n",
       "      <td>2018-03-22 15:00:00</td>\n",
       "      <td>4</td>\n",
       "      <td>0.0</td>\n",
       "      <td>32.4</td>\n",
       "      <td>2.2</td>\n",
       "      <td>1008.8</td>\n",
       "      <td>Partly cloudy</td>\n",
       "    </tr>\n",
       "    <tr>\n",
       "      <th>3</th>\n",
       "      <td>2018-03-22 16:00:00</td>\n",
       "      <td>4</td>\n",
       "      <td>0.0</td>\n",
       "      <td>41.3</td>\n",
       "      <td>1.9</td>\n",
       "      <td>1008.6</td>\n",
       "      <td>Partly cloudy</td>\n",
       "    </tr>\n",
       "    <tr>\n",
       "      <th>4</th>\n",
       "      <td>2018-03-22 17:00:00</td>\n",
       "      <td>4</td>\n",
       "      <td>0.0</td>\n",
       "      <td>81.5</td>\n",
       "      <td>1.8</td>\n",
       "      <td>1008.4</td>\n",
       "      <td>Partly cloudy</td>\n",
       "    </tr>\n",
       "  </tbody>\n",
       "</table>\n",
       "</div>"
      ],
      "text/plain": [
       "                 date  temperature  precipitation  winddirection  windspeed  \\\n",
       "0 2018-03-22 13:00:00            4            0.0           54.2        2.6   \n",
       "1 2018-03-22 14:00:00            3            0.0           40.8        2.4   \n",
       "2 2018-03-22 15:00:00            4            0.0           32.4        2.2   \n",
       "3 2018-03-22 16:00:00            4            0.0           41.3        1.9   \n",
       "4 2018-03-22 17:00:00            4            0.0           81.5        1.8   \n",
       "\n",
       "   pressure         symbol  \n",
       "0    1008.6         Cloudy  \n",
       "1    1008.7         Cloudy  \n",
       "2    1008.8  Partly cloudy  \n",
       "3    1008.6  Partly cloudy  \n",
       "4    1008.4  Partly cloudy  "
      ]
     },
     "execution_count": 120,
     "metadata": {},
     "output_type": "execute_result"
    }
   ],
   "source": [
    "weather.head()"
   ]
  },
  {
   "cell_type": "code",
   "execution_count": 121,
   "metadata": {},
   "outputs": [
    {
     "data": {
      "text/html": [
       "<div>\n",
       "<style scoped>\n",
       "    .dataframe tbody tr th:only-of-type {\n",
       "        vertical-align: middle;\n",
       "    }\n",
       "\n",
       "    .dataframe tbody tr th {\n",
       "        vertical-align: top;\n",
       "    }\n",
       "\n",
       "    .dataframe thead th {\n",
       "        text-align: right;\n",
       "    }\n",
       "</style>\n",
       "<table border=\"1\" class=\"dataframe\">\n",
       "  <thead>\n",
       "    <tr style=\"text-align: right;\">\n",
       "      <th></th>\n",
       "      <th>date</th>\n",
       "      <th>vehicleCount</th>\n",
       "      <th>id</th>\n",
       "      <th>totalSpaces</th>\n",
       "      <th>garageCode</th>\n",
       "    </tr>\n",
       "  </thead>\n",
       "  <tbody>\n",
       "    <tr>\n",
       "      <th>0</th>\n",
       "      <td>2018-03-06 12:35:01</td>\n",
       "      <td>26</td>\n",
       "      <td>1</td>\n",
       "      <td>65</td>\n",
       "      <td>NORREPORT</td>\n",
       "    </tr>\n",
       "    <tr>\n",
       "      <th>1</th>\n",
       "      <td>2018-03-06 12:35:01</td>\n",
       "      <td>559</td>\n",
       "      <td>2</td>\n",
       "      <td>1240</td>\n",
       "      <td>SCANDCENTER</td>\n",
       "    </tr>\n",
       "    <tr>\n",
       "      <th>2</th>\n",
       "      <td>2018-03-06 12:35:01</td>\n",
       "      <td>508</td>\n",
       "      <td>3</td>\n",
       "      <td>953</td>\n",
       "      <td>BRUUNS</td>\n",
       "    </tr>\n",
       "    <tr>\n",
       "      <th>3</th>\n",
       "      <td>2018-03-06 12:35:01</td>\n",
       "      <td>222</td>\n",
       "      <td>4</td>\n",
       "      <td>378</td>\n",
       "      <td>MAGASIN</td>\n",
       "    </tr>\n",
       "    <tr>\n",
       "      <th>4</th>\n",
       "      <td>2018-03-06 12:35:01</td>\n",
       "      <td>182</td>\n",
       "      <td>5</td>\n",
       "      <td>210</td>\n",
       "      <td>KALKVAERKSVEJ</td>\n",
       "    </tr>\n",
       "  </tbody>\n",
       "</table>\n",
       "</div>"
      ],
      "text/plain": [
       "                 date  vehicleCount  id  totalSpaces     garageCode\n",
       "0 2018-03-06 12:35:01            26   1           65      NORREPORT\n",
       "1 2018-03-06 12:35:01           559   2         1240    SCANDCENTER\n",
       "2 2018-03-06 12:35:01           508   3          953         BRUUNS\n",
       "3 2018-03-06 12:35:01           222   4          378        MAGASIN\n",
       "4 2018-03-06 12:35:01           182   5          210  KALKVAERKSVEJ"
      ]
     },
     "execution_count": 121,
     "metadata": {},
     "output_type": "execute_result"
    }
   ],
   "source": [
    "parking.head()"
   ]
  },
  {
   "cell_type": "code",
   "execution_count": 161,
   "metadata": {},
   "outputs": [],
   "source": [
    "def merge_two_dicts(x, y):\n",
    "    z = x.copy()   # start with x's keys and values\n",
    "    z.update(y)    # modifies z with y's keys and values & returns None\n",
    "    return z\n"
   ]
  },
  {
   "cell_type": "code",
   "execution_count": 171,
   "metadata": {},
   "outputs": [
    {
     "data": {
      "application/vnd.jupyter.widget-view+json": {
       "model_id": "2bfcc392d5304ee79190bbd3db252992",
       "version_major": 2,
       "version_minor": 0
      },
      "text/plain": [
       "HBox(children=(IntProgress(value=0, max=1532584), HTML(value='')))"
      ]
     },
     "metadata": {},
     "output_type": "display_data"
    }
   ],
   "source": [
    "from tqdm import tqdm_notebook\n",
    "import datetime\n",
    "\n",
    "row_list = []\n",
    "for index in tqdm_notebook(range(0, len(parking))):\n",
    "    row = parking.iloc[index]\n",
    "    dict1 = {}\n",
    "    dt = row['date']\n",
    "    new_dt = datetime.datetime(dt.year, dt.month, dt.day, dt.hour)\n",
    "    new_df = weather[weather['date'] == new_dt]\n",
    "    if len(new_df) > 1: \n",
    "        new_df = new_df.iloc[0]\n",
    "    row_list.append(merge_two_dicts(new_df.to_dict(), row.to_dict()))\n",
    "\n"
   ]
  },
  {
   "cell_type": "code",
   "execution_count": 172,
   "metadata": {},
   "outputs": [],
   "source": [
    "df = pd.DataFrame(row_list)"
   ]
  },
  {
   "cell_type": "code",
   "execution_count": 184,
   "metadata": {},
   "outputs": [
    {
     "data": {
      "text/plain": [
       "date              2019-02-21 01:40:01\n",
       "garageCode            Urban Level 2+3\n",
       "id                                 11\n",
       "precipitation             {8046: 0.2}\n",
       "pressure               {8046: 1015.9}\n",
       "symbol           {8046: 'Light rain'}\n",
       "temperature                 {8046: 7}\n",
       "totalSpaces                       654\n",
       "vehicleCount                       41\n",
       "winddirection           {8046: 253.4}\n",
       "windspeed                 {8046: 3.5}\n",
       "Name: 1000123, dtype: object"
      ]
     },
     "execution_count": 184,
     "metadata": {},
     "output_type": "execute_result"
    }
   ],
   "source": [
    "df.iloc[1000123]"
   ]
  },
  {
   "cell_type": "code",
   "execution_count": 102,
   "metadata": {},
   "outputs": [],
   "source": []
  },
  {
   "cell_type": "code",
   "execution_count": 132,
   "metadata": {},
   "outputs": [
    {
     "data": {
      "text/plain": [
       "Timestamp('2018-03-22 13:00:00')"
      ]
     },
     "execution_count": 132,
     "metadata": {},
     "output_type": "execute_result"
    }
   ],
   "source": [
    "weather['date'][0]"
   ]
  },
  {
   "cell_type": "code",
   "execution_count": null,
   "metadata": {},
   "outputs": [],
   "source": []
  }
 ],
 "metadata": {
  "kernelspec": {
   "display_name": "Python 3",
   "language": "python",
   "name": "python3"
  },
  "language_info": {
   "codemirror_mode": {
    "name": "ipython",
    "version": 3
   },
   "file_extension": ".py",
   "mimetype": "text/x-python",
   "name": "python",
   "nbconvert_exporter": "python",
   "pygments_lexer": "ipython3",
   "version": "3.6.5"
  }
 },
 "nbformat": 4,
 "nbformat_minor": 2
}
