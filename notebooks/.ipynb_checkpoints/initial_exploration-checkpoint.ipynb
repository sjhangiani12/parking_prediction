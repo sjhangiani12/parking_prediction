{
 "cells": [
  {
   "cell_type": "code",
   "execution_count": 11,
   "metadata": {},
   "outputs": [],
   "source": [
    "import pandas as pd\n",
    "import sqlite3"
   ]
  },
  {
   "cell_type": "code",
   "execution_count": 12,
   "metadata": {},
   "outputs": [],
   "source": [
    "weather = pd.read_csv('../data/forecast_20190828-114302.csv')"
   ]
  },
  {
   "cell_type": "code",
   "execution_count": 14,
   "metadata": {},
   "outputs": [],
   "source": [
    "# access the parking data scraped and currently stored in SQLITE \n",
    "cnx = sqlite3.connect('../data/opendata_parkering.db')\n",
    "df = pd.read_sql_query(\"SELECT * FROM parkering\", cnx)"
   ]
  },
  {
   "cell_type": "code",
   "execution_count": 15,
   "metadata": {},
   "outputs": [
    {
     "data": {
      "text/html": [
       "<div>\n",
       "<style scoped>\n",
       "    .dataframe tbody tr th:only-of-type {\n",
       "        vertical-align: middle;\n",
       "    }\n",
       "\n",
       "    .dataframe tbody tr th {\n",
       "        vertical-align: top;\n",
       "    }\n",
       "\n",
       "    .dataframe thead th {\n",
       "        text-align: right;\n",
       "    }\n",
       "</style>\n",
       "<table border=\"1\" class=\"dataframe\">\n",
       "  <thead>\n",
       "    <tr style=\"text-align: right;\">\n",
       "      <th></th>\n",
       "      <th>date</th>\n",
       "      <th>vehicleCount</th>\n",
       "      <th>id</th>\n",
       "      <th>totalSpaces</th>\n",
       "      <th>garageCode</th>\n",
       "    </tr>\n",
       "  </thead>\n",
       "  <tbody>\n",
       "    <tr>\n",
       "      <th>0</th>\n",
       "      <td>2018/03/06 12:35:01</td>\n",
       "      <td>26</td>\n",
       "      <td>1</td>\n",
       "      <td>65</td>\n",
       "      <td>NORREPORT</td>\n",
       "    </tr>\n",
       "    <tr>\n",
       "      <th>1</th>\n",
       "      <td>2018/03/06 12:35:01</td>\n",
       "      <td>559</td>\n",
       "      <td>2</td>\n",
       "      <td>1240</td>\n",
       "      <td>SCANDCENTER</td>\n",
       "    </tr>\n",
       "    <tr>\n",
       "      <th>2</th>\n",
       "      <td>2018/03/06 12:35:01</td>\n",
       "      <td>508</td>\n",
       "      <td>3</td>\n",
       "      <td>953</td>\n",
       "      <td>BRUUNS</td>\n",
       "    </tr>\n",
       "    <tr>\n",
       "      <th>3</th>\n",
       "      <td>2018/03/06 12:35:01</td>\n",
       "      <td>222</td>\n",
       "      <td>4</td>\n",
       "      <td>378</td>\n",
       "      <td>MAGASIN</td>\n",
       "    </tr>\n",
       "    <tr>\n",
       "      <th>4</th>\n",
       "      <td>2018/03/06 12:35:01</td>\n",
       "      <td>182</td>\n",
       "      <td>5</td>\n",
       "      <td>210</td>\n",
       "      <td>KALKVAERKSVEJ</td>\n",
       "    </tr>\n",
       "  </tbody>\n",
       "</table>\n",
       "</div>"
      ],
      "text/plain": [
       "                  date  vehicleCount  id  totalSpaces     garageCode\n",
       "0  2018/03/06 12:35:01            26   1           65      NORREPORT\n",
       "1  2018/03/06 12:35:01           559   2         1240    SCANDCENTER\n",
       "2  2018/03/06 12:35:01           508   3          953         BRUUNS\n",
       "3  2018/03/06 12:35:01           222   4          378        MAGASIN\n",
       "4  2018/03/06 12:35:01           182   5          210  KALKVAERKSVEJ"
      ]
     },
     "execution_count": 15,
     "metadata": {},
     "output_type": "execute_result"
    }
   ],
   "source": [
    "df.head()"
   ]
  },
  {
   "cell_type": "code",
   "execution_count": 16,
   "metadata": {},
   "outputs": [],
   "source": [
    "# drop Dokk1 because of no data\n",
    "df = df[df.garageCode != 'DOKK1']"
   ]
  },
  {
   "cell_type": "code",
   "execution_count": 17,
   "metadata": {},
   "outputs": [
    {
     "data": {
      "text/plain": [
       "1532584"
      ]
     },
     "execution_count": 17,
     "metadata": {},
     "output_type": "execute_result"
    }
   ],
   "source": [
    "len(df)"
   ]
  },
  {
   "cell_type": "code",
   "execution_count": null,
   "metadata": {},
   "outputs": [],
   "source": []
  }
 ],
 "metadata": {
  "kernelspec": {
   "display_name": "Python 3",
   "language": "python",
   "name": "python3"
  },
  "language_info": {
   "codemirror_mode": {
    "name": "ipython",
    "version": 3
   },
   "file_extension": ".py",
   "mimetype": "text/x-python",
   "name": "python",
   "nbconvert_exporter": "python",
   "pygments_lexer": "ipython3",
   "version": "3.6.5"
  }
 },
 "nbformat": 4,
 "nbformat_minor": 2
}
