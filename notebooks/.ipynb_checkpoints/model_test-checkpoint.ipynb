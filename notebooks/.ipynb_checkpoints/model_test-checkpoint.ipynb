{
 "cells": [
  {
   "cell_type": "code",
   "execution_count": 86,
   "metadata": {},
   "outputs": [],
   "source": [
    "import pandas as pd\n",
    "import sqlite3\n",
    "import matplotlib.pyplot as plt\n",
    "import time\n",
    "import numpy as np\n",
    "import tensorflow as tf\n",
    "import keras\n",
    "import pandas as pd\n",
    "import numpy as np\n",
    "from sklearn import preprocessing\n",
    "from collections import deque\n",
    "import random\n",
    "import time\n"
   ]
  },
  {
   "cell_type": "code",
   "execution_count": 22,
   "metadata": {},
   "outputs": [],
   "source": [
    "# access the parking data scraped and currently stored in SQLITE \n",
    "cnx = sqlite3.connect('../data/opendata_parkering_sep_18.db')\n",
    "parking = pd.read_sql_query(\"SELECT * FROM parkering\", cnx)"
   ]
  },
  {
   "cell_type": "code",
   "execution_count": 23,
   "metadata": {},
   "outputs": [
    {
     "data": {
      "text/html": [
       "<div>\n",
       "<style scoped>\n",
       "    .dataframe tbody tr th:only-of-type {\n",
       "        vertical-align: middle;\n",
       "    }\n",
       "\n",
       "    .dataframe tbody tr th {\n",
       "        vertical-align: top;\n",
       "    }\n",
       "\n",
       "    .dataframe thead th {\n",
       "        text-align: right;\n",
       "    }\n",
       "</style>\n",
       "<table border=\"1\" class=\"dataframe\">\n",
       "  <thead>\n",
       "    <tr style=\"text-align: right;\">\n",
       "      <th></th>\n",
       "      <th>date</th>\n",
       "      <th>vehicleCount</th>\n",
       "      <th>id</th>\n",
       "      <th>totalSpaces</th>\n",
       "      <th>garageCode</th>\n",
       "    </tr>\n",
       "  </thead>\n",
       "  <tbody>\n",
       "    <tr>\n",
       "      <td>0</td>\n",
       "      <td>2018/03/06 12:35:01</td>\n",
       "      <td>26</td>\n",
       "      <td>1</td>\n",
       "      <td>65</td>\n",
       "      <td>NORREPORT</td>\n",
       "    </tr>\n",
       "    <tr>\n",
       "      <td>1</td>\n",
       "      <td>2018/03/06 12:35:01</td>\n",
       "      <td>559</td>\n",
       "      <td>2</td>\n",
       "      <td>1240</td>\n",
       "      <td>SCANDCENTER</td>\n",
       "    </tr>\n",
       "    <tr>\n",
       "      <td>2</td>\n",
       "      <td>2018/03/06 12:35:01</td>\n",
       "      <td>508</td>\n",
       "      <td>3</td>\n",
       "      <td>953</td>\n",
       "      <td>BRUUNS</td>\n",
       "    </tr>\n",
       "    <tr>\n",
       "      <td>3</td>\n",
       "      <td>2018/03/06 12:35:01</td>\n",
       "      <td>222</td>\n",
       "      <td>4</td>\n",
       "      <td>378</td>\n",
       "      <td>MAGASIN</td>\n",
       "    </tr>\n",
       "    <tr>\n",
       "      <td>4</td>\n",
       "      <td>2018/03/06 12:35:01</td>\n",
       "      <td>182</td>\n",
       "      <td>5</td>\n",
       "      <td>210</td>\n",
       "      <td>KALKVAERKSVEJ</td>\n",
       "    </tr>\n",
       "  </tbody>\n",
       "</table>\n",
       "</div>"
      ],
      "text/plain": [
       "                  date  vehicleCount  id  totalSpaces     garageCode\n",
       "0  2018/03/06 12:35:01            26   1           65      NORREPORT\n",
       "1  2018/03/06 12:35:01           559   2         1240    SCANDCENTER\n",
       "2  2018/03/06 12:35:01           508   3          953         BRUUNS\n",
       "3  2018/03/06 12:35:01           222   4          378        MAGASIN\n",
       "4  2018/03/06 12:35:01           182   5          210  KALKVAERKSVEJ"
      ]
     },
     "execution_count": 23,
     "metadata": {},
     "output_type": "execute_result"
    }
   ],
   "source": [
    "parking.head()"
   ]
  },
  {
   "cell_type": "code",
   "execution_count": 24,
   "metadata": {},
   "outputs": [],
   "source": [
    "parking = parking[parking.garageCode != 'DOKK1']\n",
    "parking = parking[parking.garageCode != 'KALKVAERKSVEJ']\n",
    "parking = parking[parking.garageCode != 'BRUUNS']\n",
    "parking = parking[parking.garageCode != 'NORREPORT']\n"
   ]
  },
  {
   "cell_type": "code",
   "execution_count": 25,
   "metadata": {},
   "outputs": [
    {
     "data": {
      "text/html": [
       "<div>\n",
       "<style scoped>\n",
       "    .dataframe tbody tr th:only-of-type {\n",
       "        vertical-align: middle;\n",
       "    }\n",
       "\n",
       "    .dataframe tbody tr th {\n",
       "        vertical-align: top;\n",
       "    }\n",
       "\n",
       "    .dataframe thead th {\n",
       "        text-align: right;\n",
       "    }\n",
       "</style>\n",
       "<table border=\"1\" class=\"dataframe\">\n",
       "  <thead>\n",
       "    <tr style=\"text-align: right;\">\n",
       "      <th></th>\n",
       "      <th>date</th>\n",
       "      <th>vehicleCount</th>\n",
       "      <th>id</th>\n",
       "      <th>totalSpaces</th>\n",
       "      <th>garageCode</th>\n",
       "      <th>month</th>\n",
       "      <th>year</th>\n",
       "      <th>day</th>\n",
       "      <th>hour</th>\n",
       "      <th>weekend</th>\n",
       "    </tr>\n",
       "  </thead>\n",
       "  <tbody>\n",
       "    <tr>\n",
       "      <td>1</td>\n",
       "      <td>2018-03-06 12:35:01</td>\n",
       "      <td>559</td>\n",
       "      <td>2</td>\n",
       "      <td>1240</td>\n",
       "      <td>SCANDCENTER</td>\n",
       "      <td>3</td>\n",
       "      <td>2018</td>\n",
       "      <td>1</td>\n",
       "      <td>12</td>\n",
       "      <td>False</td>\n",
       "    </tr>\n",
       "    <tr>\n",
       "      <td>3</td>\n",
       "      <td>2018-03-06 12:35:01</td>\n",
       "      <td>222</td>\n",
       "      <td>4</td>\n",
       "      <td>378</td>\n",
       "      <td>MAGASIN</td>\n",
       "      <td>3</td>\n",
       "      <td>2018</td>\n",
       "      <td>1</td>\n",
       "      <td>12</td>\n",
       "      <td>False</td>\n",
       "    </tr>\n",
       "    <tr>\n",
       "      <td>5</td>\n",
       "      <td>2018-03-06 12:35:01</td>\n",
       "      <td>591</td>\n",
       "      <td>6</td>\n",
       "      <td>700</td>\n",
       "      <td>SALLING</td>\n",
       "      <td>3</td>\n",
       "      <td>2018</td>\n",
       "      <td>1</td>\n",
       "      <td>12</td>\n",
       "      <td>False</td>\n",
       "    </tr>\n",
       "    <tr>\n",
       "      <td>7</td>\n",
       "      <td>2018-03-06 12:35:01</td>\n",
       "      <td>160</td>\n",
       "      <td>8</td>\n",
       "      <td>449</td>\n",
       "      <td>Navitas</td>\n",
       "      <td>3</td>\n",
       "      <td>2018</td>\n",
       "      <td>1</td>\n",
       "      <td>12</td>\n",
       "      <td>False</td>\n",
       "    </tr>\n",
       "    <tr>\n",
       "      <td>8</td>\n",
       "      <td>2018-03-06 12:35:01</td>\n",
       "      <td>98</td>\n",
       "      <td>9</td>\n",
       "      <td>105</td>\n",
       "      <td>NewBusgadehuset</td>\n",
       "      <td>3</td>\n",
       "      <td>2018</td>\n",
       "      <td>1</td>\n",
       "      <td>12</td>\n",
       "      <td>False</td>\n",
       "    </tr>\n",
       "  </tbody>\n",
       "</table>\n",
       "</div>"
      ],
      "text/plain": [
       "                 date  vehicleCount  id  totalSpaces       garageCode  month  \\\n",
       "1 2018-03-06 12:35:01           559   2         1240      SCANDCENTER      3   \n",
       "3 2018-03-06 12:35:01           222   4          378          MAGASIN      3   \n",
       "5 2018-03-06 12:35:01           591   6          700          SALLING      3   \n",
       "7 2018-03-06 12:35:01           160   8          449          Navitas      3   \n",
       "8 2018-03-06 12:35:01            98   9          105  NewBusgadehuset      3   \n",
       "\n",
       "   year  day  hour  weekend  \n",
       "1  2018    1    12    False  \n",
       "3  2018    1    12    False  \n",
       "5  2018    1    12    False  \n",
       "7  2018    1    12    False  \n",
       "8  2018    1    12    False  "
      ]
     },
     "execution_count": 25,
     "metadata": {},
     "output_type": "execute_result"
    }
   ],
   "source": [
    "parking['date'] = parking['date'].astype('datetime64[ns]') \n",
    "parking['month']= pd.DatetimeIndex(parking['date']).month\n",
    "parking['year'] = pd.DatetimeIndex(parking['date']).year\n",
    "parking['day'] = pd.DatetimeIndex(parking['date']).weekday\n",
    "parking['hour'] = pd.DatetimeIndex(parking['date']).hour\n",
    "parking['weekend'] = parking.day > 5\n",
    "parking.head()"
   ]
  },
  {
   "cell_type": "code",
   "execution_count": 36,
   "metadata": {},
   "outputs": [],
   "source": [
    "from dateutil import parser\n",
    "dt = parser.parse(\"2019-08-28 13:15:01\")\n",
    "parking = parking[parking['date'] > dt]"
   ]
  },
  {
   "cell_type": "code",
   "execution_count": 37,
   "metadata": {},
   "outputs": [
    {
     "data": {
      "text/html": [
       "<div>\n",
       "<style scoped>\n",
       "    .dataframe tbody tr th:only-of-type {\n",
       "        vertical-align: middle;\n",
       "    }\n",
       "\n",
       "    .dataframe tbody tr th {\n",
       "        vertical-align: top;\n",
       "    }\n",
       "\n",
       "    .dataframe thead th {\n",
       "        text-align: right;\n",
       "    }\n",
       "</style>\n",
       "<table border=\"1\" class=\"dataframe\">\n",
       "  <thead>\n",
       "    <tr style=\"text-align: right;\">\n",
       "      <th></th>\n",
       "      <th>date</th>\n",
       "      <th>vehicleCount</th>\n",
       "      <th>id</th>\n",
       "      <th>totalSpaces</th>\n",
       "      <th>garageCode</th>\n",
       "      <th>month</th>\n",
       "      <th>year</th>\n",
       "      <th>day</th>\n",
       "      <th>hour</th>\n",
       "      <th>weekend</th>\n",
       "    </tr>\n",
       "  </thead>\n",
       "  <tbody>\n",
       "    <tr>\n",
       "      <td>1685842</td>\n",
       "      <td>2019-08-28 13:20:01</td>\n",
       "      <td>287</td>\n",
       "      <td>4</td>\n",
       "      <td>378</td>\n",
       "      <td>MAGASIN</td>\n",
       "      <td>8</td>\n",
       "      <td>2019</td>\n",
       "      <td>2</td>\n",
       "      <td>13</td>\n",
       "      <td>False</td>\n",
       "    </tr>\n",
       "    <tr>\n",
       "      <td>1685844</td>\n",
       "      <td>2019-08-28 13:20:01</td>\n",
       "      <td>571</td>\n",
       "      <td>6</td>\n",
       "      <td>700</td>\n",
       "      <td>SALLING</td>\n",
       "      <td>8</td>\n",
       "      <td>2019</td>\n",
       "      <td>2</td>\n",
       "      <td>13</td>\n",
       "      <td>False</td>\n",
       "    </tr>\n",
       "    <tr>\n",
       "      <td>1685846</td>\n",
       "      <td>2019-08-28 13:20:01</td>\n",
       "      <td>289</td>\n",
       "      <td>8</td>\n",
       "      <td>449</td>\n",
       "      <td>Navitas</td>\n",
       "      <td>8</td>\n",
       "      <td>2019</td>\n",
       "      <td>2</td>\n",
       "      <td>13</td>\n",
       "      <td>False</td>\n",
       "    </tr>\n",
       "    <tr>\n",
       "      <td>1685847</td>\n",
       "      <td>2019-08-28 13:20:01</td>\n",
       "      <td>63</td>\n",
       "      <td>9</td>\n",
       "      <td>105</td>\n",
       "      <td>NewBusgadehuset</td>\n",
       "      <td>8</td>\n",
       "      <td>2019</td>\n",
       "      <td>2</td>\n",
       "      <td>13</td>\n",
       "      <td>False</td>\n",
       "    </tr>\n",
       "    <tr>\n",
       "      <td>1685848</td>\n",
       "      <td>2019-08-28 13:20:01</td>\n",
       "      <td>113</td>\n",
       "      <td>10</td>\n",
       "      <td>319</td>\n",
       "      <td>Urban Level 1</td>\n",
       "      <td>8</td>\n",
       "      <td>2019</td>\n",
       "      <td>2</td>\n",
       "      <td>13</td>\n",
       "      <td>False</td>\n",
       "    </tr>\n",
       "  </tbody>\n",
       "</table>\n",
       "</div>"
      ],
      "text/plain": [
       "                       date  vehicleCount  id  totalSpaces       garageCode  \\\n",
       "1685842 2019-08-28 13:20:01           287   4          378          MAGASIN   \n",
       "1685844 2019-08-28 13:20:01           571   6          700          SALLING   \n",
       "1685846 2019-08-28 13:20:01           289   8          449          Navitas   \n",
       "1685847 2019-08-28 13:20:01            63   9          105  NewBusgadehuset   \n",
       "1685848 2019-08-28 13:20:01           113  10          319    Urban Level 1   \n",
       "\n",
       "         month  year  day  hour  weekend  \n",
       "1685842      8  2019    2    13    False  \n",
       "1685844      8  2019    2    13    False  \n",
       "1685846      8  2019    2    13    False  \n",
       "1685847      8  2019    2    13    False  \n",
       "1685848      8  2019    2    13    False  "
      ]
     },
     "execution_count": 37,
     "metadata": {},
     "output_type": "execute_result"
    }
   ],
   "source": [
    "parking.head()"
   ]
  },
  {
   "cell_type": "code",
   "execution_count": 38,
   "metadata": {},
   "outputs": [
    {
     "name": "stdout",
     "output_type": "stream",
     "text": [
      "MAGASIN\n",
      "AxesSubplot(0.125,0.125;0.775x0.755)\n"
     ]
    },
    {
     "data": {
      "image/png": "[encoded data removed]",
      "text/plain": [
       "<Figure size 432x288 with 1 Axes>"
      ]
     },
     "metadata": {
      "needs_background": "light"
     },
     "output_type": "display_data"
    },
    {
     "name": "stdout",
     "output_type": "stream",
     "text": [
      "SALLING\n",
      "AxesSubplot(0.125,0.125;0.775x0.755)\n"
     ]
    },
    {
     "data": {
      "image/png": "[encoded data removed]",
      "text/plain": [
       "<Figure size 432x288 with 1 Axes>"
      ]
     },
     "metadata": {
      "needs_background": "light"
     },
     "output_type": "display_data"
    },
    {
     "name": "stdout",
     "output_type": "stream",
     "text": [
      "Navitas\n",
      "AxesSubplot(0.125,0.125;0.775x0.755)\n"
     ]
    },
    {
     "data": {
      "image/png": "[encoded data removed]",
      "text/plain": [
       "<Figure size 432x288 with 1 Axes>"
      ]
     },
     "metadata": {
      "needs_background": "light"
     },
     "output_type": "display_data"
    },
    {
     "name": "stdout",
     "output_type": "stream",
     "text": [
      "NewBusgadehuset\n",
      "AxesSubplot(0.125,0.125;0.775x0.755)\n"
     ]
    },
    {
     "data": {
      "image/png": "[encoded data removed]",
      "text/plain": [
       "<Figure size 432x288 with 1 Axes>"
      ]
     },
     "metadata": {
      "needs_background": "light"
     },
     "output_type": "display_data"
    },
    {
     "name": "stdout",
     "output_type": "stream",
     "text": [
      "Urban Level 1\n",
      "AxesSubplot(0.125,0.125;0.775x0.755)\n"
     ]
    },
    {
     "data": {
      "image/png": "[encoded data removed]",
      "text/plain": [
       "<Figure size 432x288 with 1 Axes>"
      ]
     },
     "metadata": {
      "needs_background": "light"
     },
     "output_type": "display_data"
    },
    {
     "name": "stdout",
     "output_type": "stream",
     "text": [
      "Urban Level 2+3\n",
      "AxesSubplot(0.125,0.125;0.775x0.755)\n"
     ]
    },
    {
     "data": {
      "image/png": "[encoded data removed]",
      "text/plain": [
       "<Figure size 432x288 with 1 Axes>"
      ]
     },
     "metadata": {
      "needs_background": "light"
     },
     "output_type": "display_data"
    },
    {
     "name": "stdout",
     "output_type": "stream",
     "text": [
      "SCANDCENTER\n",
      "AxesSubplot(0.125,0.125;0.775x0.755)\n"
     ]
    },
    {
     "data": {
      "image/png": "[encoded data removed]",
      "text/plain": [
       "<Figure size 432x288 with 1 Axes>"
      ]
     },
     "metadata": {
      "needs_background": "light"
     },
     "output_type": "display_data"
    }
   ],
   "source": [
    "for location in parking.garageCode.unique():\n",
    "    print(location)\n",
    "    temp_df = parking[parking.garageCode == location].copy()\n",
    "    temp_df['percentage'] = temp_df.vehicleCount / temp_df.totalSpaces\n",
    "    print(temp_df.groupby('hour').mean()['vehicleCount'].plot())\n",
    "    plt.legend(loc='center left', bbox_to_anchor=(1.0, 0.5))\n",
    "    plt.show()"
   ]
  },
  {
   "cell_type": "code",
   "execution_count": 40,
   "metadata": {},
   "outputs": [
    {
     "name": "stdout",
     "output_type": "stream",
     "text": [
      "MAGASIN\n",
      "Number of entries of collected data: 7294\n",
      "Number of occurences of more cars than spaces: 0\n",
      "Number of occurences per count of total spaces: totalSpaces\n",
      "378    7294\n",
      "dtype: int64\n",
      "SALLING\n",
      "Number of entries of collected data: 7294\n",
      "Number of occurences of more cars than spaces: 0\n",
      "Number of occurences per count of total spaces: totalSpaces\n",
      "700    7294\n",
      "dtype: int64\n",
      "Navitas\n",
      "Number of entries of collected data: 7294\n",
      "Number of occurences of more cars than spaces: 0\n",
      "Number of occurences per count of total spaces: totalSpaces\n",
      "449    7294\n",
      "dtype: int64\n",
      "NewBusgadehuset\n",
      "Number of entries of collected data: 7294\n",
      "Number of occurences of more cars than spaces: 0\n",
      "Number of occurences per count of total spaces: totalSpaces\n",
      "105    7294\n",
      "dtype: int64\n",
      "Urban Level 1\n",
      "Number of entries of collected data: 7294\n",
      "Number of occurences of more cars than spaces: 0\n",
      "Number of occurences per count of total spaces: totalSpaces\n",
      "319    7294\n",
      "dtype: int64\n",
      "Urban Level 2+3\n",
      "Number of entries of collected data: 7294\n",
      "Number of occurences of more cars than spaces: 0\n",
      "Number of occurences per count of total spaces: totalSpaces\n",
      "654    7294\n",
      "dtype: int64\n",
      "SCANDCENTER\n",
      "Number of entries of collected data: 7294\n",
      "Number of occurences of more cars than spaces: 0\n",
      "Number of occurences per count of total spaces: totalSpaces\n",
      "1240    7294\n",
      "dtype: int64\n"
     ]
    }
   ],
   "source": [
    "for location in parking.garageCode.unique():\n",
    "    print(location)\n",
    "    temp_df = parking[parking.garageCode == location].copy()\n",
    "    temp_df['percentage'] = temp_df.vehicleCount / temp_df.totalSpaces    \n",
    "    print(\"Number of entries of collected data:\", len(temp_df))\n",
    "    print(\"Number of occurences of more cars than spaces:\" , len(temp_df[temp_df.percentage > 1]))\n",
    "    print(\"Number of occurences per count of total spaces:\" , temp_df.groupby('totalSpaces').size().sort_values(ascending=False))\n",
    "    counts = temp_df.groupby('totalSpaces').size().sort_values(ascending=False).reset_index()\n",
    "    if len(counts) > 1:\n",
    "        print(temp_df[temp_df.totalSpaces == counts['totalSpaces'].iloc[1]])\n"
   ]
  },
  {
   "cell_type": "code",
   "execution_count": 42,
   "metadata": {},
   "outputs": [],
   "source": [
    "parking['percentage'] = parking.vehicleCount / parking.totalSpaces"
   ]
  },
  {
   "cell_type": "code",
   "execution_count": 49,
   "metadata": {},
   "outputs": [],
   "source": [
    "SEQ_LENGTH = 12\n",
    "FUTURE_PERIOD_PREDICT = 1\n",
    "GARAGE_TO_PREDICT = \"SALLING\"\n",
    "EPOCHS = 10\n",
    "BATCH_SIZE = 64\n",
    "\n",
    "\n",
    "df = parking\n",
    "df = pd.pivot_table(\n",
    "    df,\n",
    "    values=\"percentage\",\n",
    "    index=[\"date\"],\n",
    "    columns=[\"garageCode\"],\n",
    "    aggfunc=np.mean,\n",
    "    fill_value=0,\n",
    ").reset_index()\n",
    "\n",
    "\n",
    "def classify(current, future):\n",
    "    if float(future) > float(current):\n",
    "        return 1\n",
    "    else:\n",
    "        return 0\n",
    "\n",
    "\n",
    "df[\"future\"] = df[f\"{GARAGE_TO_PREDICT}\"].shift(-FUTURE_PERIOD_PREDICT)\n",
    "df[\"target\"] = list(map(classify, df[f\"{GARAGE_TO_PREDICT}\"], df[\"future\"]))\n",
    "df.set_index(\"date\", inplace=True)\n"
   ]
  },
  {
   "cell_type": "code",
   "execution_count": 87,
   "metadata": {},
   "outputs": [],
   "source": [
    "def preprocess_df(df):\n",
    "    df = df.drop(\"future\", 1)\n",
    "    # skip the scaling sicne we're working w percentages and its already scaled correctly\n",
    "    sequential_data = []\n",
    "    prev_days = deque(maxlen=SEQ_LENGTH)\n",
    "    for i in df.values:\n",
    "        prev_days.append([n for n in i[:-1]])\n",
    "        if len(prev_days) == SEQ_LENGTH:\n",
    "            sequential_data.append([np.array(prev_days), i[-1]])\n",
    "    random.shuffle(sequential_data)\n",
    "\n",
    "    increases = []\n",
    "    decreases = []\n",
    "\n",
    "    for seq, target in sequential_data:\n",
    "        if target == 0:\n",
    "            decreases.append([seq, target])\n",
    "        elif target == 1:\n",
    "            increases.append([seq, target])\n",
    "\n",
    "    random.shuffle(increases)\n",
    "    random.shuffle(decreases)\n",
    "\n",
    "    lower = min(len(increases), len(decreases))\n",
    "\n",
    "    increases = increases[:lower]\n",
    "    decreases = decreases[:lower]\n",
    "\n",
    "    sequential_data = increases + decreases\n",
    "    random.shuffle(sequential_data)\n",
    "\n",
    "    X = []\n",
    "    y = []\n",
    "\n",
    "    for seq, target in sequential_data:\n",
    "        X.append(seq)\n",
    "        y.append(target)\n",
    "\n",
    "    return np.array(X), y\n",
    "\n",
    "\n",
    "train_x, train_y = preprocess_df(df)"
   ]
  },
  {
   "cell_type": "code",
   "execution_count": 88,
   "metadata": {},
   "outputs": [
    {
     "name": "stdout",
     "output_type": "stream",
     "text": [
      "Model: \"sequential\"\n",
      "_________________________________________________________________\n",
      "Layer (type)                 Output Shape              Param #   \n",
      "=================================================================\n",
      "lstm (LSTM)                  (None, 12, 128)           69632     \n",
      "_________________________________________________________________\n",
      "dropout (Dropout)            (None, 12, 128)           0         \n",
      "_________________________________________________________________\n",
      "batch_normalization (BatchNo (None, 12, 128)           512       \n",
      "_________________________________________________________________\n",
      "lstm_1 (LSTM)                (None, 12, 128)           131584    \n",
      "_________________________________________________________________\n",
      "dropout_1 (Dropout)          (None, 12, 128)           0         \n",
      "_________________________________________________________________\n",
      "batch_normalization_1 (Batch (None, 12, 128)           512       \n",
      "_________________________________________________________________\n",
      "lstm_2 (LSTM)                (None, 128)               131584    \n",
      "_________________________________________________________________\n",
      "dropout_2 (Dropout)          (None, 128)               0         \n",
      "_________________________________________________________________\n",
      "batch_normalization_2 (Batch (None, 128)               512       \n",
      "_________________________________________________________________\n",
      "dense (Dense)                (None, 32)                4128      \n",
      "_________________________________________________________________\n",
      "dropout_3 (Dropout)          (None, 32)                0         \n",
      "_________________________________________________________________\n",
      "dense_1 (Dense)              (None, 2)                 66        \n",
      "=================================================================\n",
      "Total params: 338,530\n",
      "Trainable params: 337,762\n",
      "Non-trainable params: 768\n",
      "_________________________________________________________________\n",
      "acc: 78.78%\n"
     ]
    }
   ],
   "source": [
    "# load and evaluate a saved model\n",
    "import keras# load and evaluate a saved model\n",
    "from numpy import loadtxt\n",
    "import tensorflow as tf \n",
    "\n",
    "# load model\n",
    "# summarize model.\n",
    "model = tf.keras.models.load_model('../models/12-SEQ-1-PRED-1568817852.h5')\n",
    "model.summary()\n",
    "# load dataset\n",
    "# evaluate the model\n",
    "score = model.evaluate(train_x, train_y, verbose=0)\n",
    "print(\"%s: %.2f%%\" % (model.metrics_names[1], score[1]*100))"
   ]
  },
  {
   "cell_type": "code",
   "execution_count": null,
   "metadata": {},
   "outputs": [],
   "source": []
  }
 ],
 "metadata": {
  "kernelspec": {
   "display_name": "Python 3",
   "language": "python",
   "name": "python3"
  },
  "language_info": {
   "codemirror_mode": {
    "name": "ipython",
    "version": 3
   },
   "file_extension": ".py",
   "mimetype": "text/x-python",
   "name": "python",
   "nbconvert_exporter": "python",
   "pygments_lexer": "ipython3",
   "version": "3.6.8"
  }
 },
 "nbformat": 4,
 "nbformat_minor": 2
}
